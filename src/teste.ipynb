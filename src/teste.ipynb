{
 "cells": [
  {
   "cell_type": "code",
   "execution_count": 45,
   "id": "9ee67e24",
   "metadata": {},
   "outputs": [],
   "source": [
    "import pandas as pd\n",
    "\n",
    "\"\"\"\n",
    "Quais foram as compras de jogadores com melhores e \n",
    "piores custo-benefício registradas?\n",
    "\"\"\"\n",
    "\n",
    "def open_csv(arquivo):\n",
    "    with open('../data/'+arquivo+'.csv', 'r', encoding='latin1') as file:\n",
    "        return pd.read_csv(file)\n",
    "    \n",
    "#Tabelas a serem utilizadas\n",
    "\n",
    "appearances = open_csv(\"appearances\")\n",
    "game_events = open_csv(\"game_events\")\n",
    "player_valuations = open_csv(\"player_valuations\")\n",
    "players = open_csv(\"players\")\n",
    "transfers = open_csv(\"transfers\")\n",
    "\n",
    "#Em transfers, ordenar pelo valor\n",
    "#Proxy para determinar se o jogar é bom: appearances, game_events\n"
   ]
  },
  {
   "cell_type": "code",
   "execution_count": 57,
   "id": "d8da7213",
   "metadata": {},
   "outputs": [],
   "source": [
    "appearances.dropna(axis=0, inplace=True)\n",
    "game_events.dropna(axis=0, inplace=True)\n",
    "player_valuations.dropna(axis=0, inplace=True)\n",
    "players.dropna(axis=0, inplace=True)\n",
    "transfers.dropna(axis=0, inplace=True)"
   ]
  },
  {
   "cell_type": "code",
   "execution_count": 82,
   "id": "78189484",
   "metadata": {},
   "outputs": [
    {
     "name": "stdout",
     "output_type": "stream",
     "text": [
      "2011-07-01 2014-09-01\n",
      "2014-09-01 2015-06-30\n",
      "2015-06-30 2016-01-01\n",
      "2016-01-01 2023-07-05\n",
      "2023-07-05 2024-10-02\n"
     ]
    },
    {
     "name": "stderr",
     "output_type": "stream",
     "text": [
      "C:\\Users\\luizb\\AppData\\Local\\Temp\\ipykernel_3480\\1529573844.py:4: SettingWithCopyWarning: \n",
      "A value is trying to be set on a copy of a slice from a DataFrame\n",
      "\n",
      "See the caveats in the documentation: https://pandas.pydata.org/pandas-docs/stable/user_guide/indexing.html#returning-a-view-versus-a-copy\n",
      "  transfers_player.sort_values(by='transfer_date', ascending=True, inplace=True)\n"
     ]
    }
   ],
   "source": [
    "\n",
    "for player_id in players['player_id']:\n",
    "    transfers_player = transfers.loc[transfers['player_id'] == player_id]\n",
    "    if not transfers_player.empty:\n",
    "        transfers_player.sort_values(by='transfer_date', ascending=True, inplace=True)\n",
    "        transfers_player.reset_index(drop=True, inplace=True)\n",
    "        # print(transfers_player)\n",
    "        for index, row in transfers_player.iterrows():\n",
    "            start_date = row['transfer_date']\n",
    "            if index < len(transfers_player) - 1:\n",
    "                final_date = transfers_player.loc[index+1,'transfer_date']\n",
    "            else:\n",
    "                final_date = pd.Timestamp.now().date()\n",
    "            print(start_date, final_date)\n",
    "        break\n",
    "\n",
    "\n",
    "\n",
    "\n",
    "# transfers.dropna(axis=0, inplace=True)\n",
    "# transfers.sort_values(by='market_value_in_eur', ascending=False, inplace=True)\n",
    "# transfers"
   ]
  }
 ],
 "metadata": {
  "kernelspec": {
   "display_name": "Python 3",
   "language": "python",
   "name": "python3"
  },
  "language_info": {
   "codemirror_mode": {
    "name": "ipython",
    "version": 3
   },
   "file_extension": ".py",
   "mimetype": "text/x-python",
   "name": "python",
   "nbconvert_exporter": "python",
   "pygments_lexer": "ipython3",
   "version": "3.12.2"
  }
 },
 "nbformat": 4,
 "nbformat_minor": 5
}
