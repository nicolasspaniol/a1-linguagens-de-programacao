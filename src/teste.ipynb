{
 "cells": [
  {
   "cell_type": "code",
   "execution_count": 7,
   "id": "9ee67e24",
   "metadata": {},
   "outputs": [],
   "source": [
    "import pandas as pd\n",
    "\n",
    "\"\"\"\n",
    "Quais foram as compras de jogadores com melhores e \n",
    "piores custo-benefício registradas?\n",
    "\"\"\"\n",
    "\n",
    "def open_csv(arquivo):\n",
    "    with open('../data/'+arquivo+'.csv', 'r', encoding='latin1') as file:\n",
    "        return pd.read_csv(file)\n",
    "    \n",
    "#Tabelas a serem utilizadas\n",
    "\n",
    "appearances = open_csv(\"appearances\")\n",
    "game_events = open_csv(\"game_events\")\n",
    "player_valuations = open_csv(\"player_valuations\")\n",
    "players = open_csv(\"players\")\n",
    "transfers = open_csv(\"transfers\")\n",
    "\n",
    "#Em transfers, ordenar pelo valor\n",
    "#Proxy para determinar se o jogar é bom: appearances, game_events\n"
   ]
  },
  {
   "cell_type": "code",
   "execution_count": 8,
   "id": "d8da7213",
   "metadata": {},
   "outputs": [],
   "source": [
    "#Dropar apenas quansd tiver NaN nas colunas uteis e nao todas\n",
    "appearances.dropna(axis=0, inplace=True) \n",
    "game_events.dropna(axis=0, inplace=True)\n",
    "player_valuations.dropna(axis=0, inplace=True)\n",
    "players.dropna(axis=0, subset=[\"market_value_in_eur\"], inplace=True)\n",
    "transfers.dropna(axis=0, subset=[\"market_value_in_eur\"], inplace=True)"
   ]
  },
  {
   "cell_type": "code",
   "execution_count": 17,
   "id": "78189484",
   "metadata": {},
   "outputs": [],
   "source": [
    "from datetime import date, datetime\n",
    "\n",
    "def proxy(games_played, yellow_cards, red_cards, goals, assists):\n",
    "    print(games_played, yellow_cards, red_cards, goals, assists)\n",
    "    return \n",
    "\n",
    "def parse_date(date_str: str) -> date:\n",
    "    if len(date_str) > 10:\n",
    "        return datetime.strptime(date_str, '%Y-%m-%d %H:%M:%S').date()\n",
    "       \n",
    "    return datetime.strptime(date_str, '%Y-%m-%d').date()\n"
   ]
  },
  {
   "cell_type": "code",
   "execution_count": 28,
   "id": "0d88b25a",
   "metadata": {},
   "outputs": [
    {
     "name": "stdout",
     "output_type": "stream",
     "text": [
      "2005-08-31 2006-05-08\n",
      "0 0 0 0 0\n",
      "2006-05-08 2008-08-29\n",
      "0 0 0 0 0\n",
      "2008-08-29 2010-08-17\n",
      "0 0 0 0 0\n",
      "2010-08-17 2015-07-01\n",
      "119 16 1 14 25\n",
      "2015-07-01 2023-07-01\n",
      "316 49 0 24 43\n",
      "2023-07-01 2024-10-07\n",
      "23 4 0 0 2\n",
      "3333\n"
     ]
    },
    {
     "name": "stderr",
     "output_type": "stream",
     "text": [
      "C:\\Users\\luizb\\AppData\\Local\\Temp\\ipykernel_19604\\2308995909.py:6: SettingWithCopyWarning: \n",
      "A value is trying to be set on a copy of a slice from a DataFrame\n",
      "\n",
      "See the caveats in the documentation: https://pandas.pydata.org/pandas-docs/stable/user_guide/indexing.html#returning-a-view-versus-a-copy\n",
      "  transfers_player.sort_values(by='transfer_date', ascending=True, inplace=True)\n"
     ]
    }
   ],
   "source": [
    "#Para cada jogador catalogado em \"players\"\n",
    "for player_id in players['player_id']:\n",
    "    transfers_player = transfers.loc[transfers['player_id'] == player_id]\n",
    "    #Se esse jogador tiver transferências em \"transfers\"\n",
    "    if not transfers_player.empty:\n",
    "        transfers_player.sort_values(by='transfer_date', ascending=True, inplace=True)\n",
    "        transfers_player.reset_index(drop=True, inplace=True)\n",
    "        #Para cada transferência referente a esse jogador\n",
    "        for index, each_row in transfers_player.iterrows():\n",
    "            start_date = parse_date(each_row['transfer_date'])\n",
    "            start_price = each_row['market_value_in_eur']\n",
    "            if index < len(transfers_player) - 1:\n",
    "                final_date = parse_date(transfers_player.loc[index+1,'transfer_date'])\n",
    "                final_price = transfers_player.loc[index+1,'market_value_in_eur']\n",
    "            else:\n",
    "                final_date = datetime.now().date()\n",
    "                final_price = players.loc[players['player_id'] == player_id, 'market_value_in_eur']\n",
    "            \n",
    "            print(start_date, final_date)\n",
    "\n",
    "            games_played = 0\n",
    "            yellow_cards = 0\n",
    "            red_cards = 0\n",
    "            goals = 0\n",
    "            assists = 0\n",
    "\n",
    "            #Para cada jogo entre as datas das transfências\n",
    "            appearances_player = appearances.loc[appearances['player_id'] == player_id]\n",
    "            for index2, each_row2 in appearances_player.iterrows():\n",
    "                data = parse_date(each_row2[\"date\"])\n",
    "                if start_date <= data and data <= final_date:\n",
    "                    games_played += 1\n",
    "                    yellow_cards += each_row2[\"yellow_cards\"]\n",
    "                    red_cards += each_row2[\"red_cards\"]\n",
    "                    goals += each_row2[\"goals\"]\n",
    "                    assists += each_row2[\"assists\"]\n",
    "            proxy(games_played, yellow_cards, red_cards, goals, assists)\n",
    "        print(player_id)\n",
    "        break\n",
    "\n",
    "\n",
    "\n",
    "\n",
    "# transfers.dropna(axis=0, inplace=True)\n",
    "# transfers.sort_values(by='market_value_in_eur', ascending=False, inplace=True)\n",
    "# transfers"
   ]
  }
 ],
 "metadata": {
  "kernelspec": {
   "display_name": "Python 3",
   "language": "python",
   "name": "python3"
  },
  "language_info": {
   "codemirror_mode": {
    "name": "ipython",
    "version": 3
   },
   "file_extension": ".py",
   "mimetype": "text/x-python",
   "name": "python",
   "nbconvert_exporter": "python",
   "pygments_lexer": "ipython3",
   "version": "3.12.2"
  }
 },
 "nbformat": 4,
 "nbformat_minor": 5
}
